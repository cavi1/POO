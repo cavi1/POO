{
  "cells": [
    {
      "cell_type": "markdown",
      "metadata": {
        "id": "33bx8qoQL7fI"
      },
      "source": [
        "# Práctica básica de python"
      ]
    },
    {
      "cell_type": "markdown",
      "metadata": {
        "id": "qd3mN4IRMElU"
      },
      "source": [
        "1.   Ingrese dos valores por consola y devuelva el producto de ambos si el resultado es menor a 1000, sino devolver su suma.\n",
        "\n"
      ]
    },
    {
      "cell_type": "code",
      "execution_count": 13,
      "metadata": {
        "colab": {
          "base_uri": "https://localhost:8080/"
        },
        "id": "4ACOSw_oLDWi",
        "outputId": "51f25a0d-47a0-42fc-c223-1a3ea28aaa51"
      },
      "outputs": [],
      "source": [
        "nro1=int(input(\"ingrese el primer valor\"))\n",
        "nro2=int(input(\"ingrese el segundo valor\"))\n",
        "resu=nro1*nro2\n",
        "if resu < 1000:\n",
        "    print(f\"el producto de {nro1} y {nro2} es mayor a 1000 el resultado es {resu}\")\n",
        "else:\n",
        "    print(f\"el producto de {nro1} y {nro2} es menor a 1000, se devolverá la suma de los mismos, que es {nro1+nro2}\")"
      ]
    },
    {
      "cell_type": "markdown",
      "metadata": {
        "id": "7CFhHxl2NSOL"
      },
      "source": [
        "2.   Itere sobre los primeros 10 números y en cada iteración imprima la suma del numero actual y el anterior."
      ]
    },
    {
      "cell_type": "code",
      "execution_count": null,
      "metadata": {
        "colab": {
          "base_uri": "https://localhost:8080/"
        },
        "id": "ITktRattLoYV",
        "outputId": "b237a68b-8884-442f-85ed-fe20ab3b6d98"
      },
      "outputs": [
        {
          "name": "stdout",
          "output_type": "stream",
          "text": [
            "-1\n",
            "1\n",
            "3\n",
            "5\n",
            "7\n",
            "9\n",
            "11\n",
            "13\n",
            "15\n",
            "17\n"
          ]
        }
      ],
      "source": [
        "for i in range(10):\n",
        "    print(i+(i-1))"
      ]
    },
    {
      "cell_type": "markdown",
      "metadata": {
        "id": "wXqPytg4NeLq"
      },
      "source": [
        "3.   Dada una cadena ingresada por consola, imprima los caracteres en posiciones pares. Por ejemplo para la cadena \"hola\" debería imprimir h l"
      ]
    },
    {
      "cell_type": "code",
      "execution_count": null,
      "metadata": {
        "colab": {
          "base_uri": "https://localhost:8080/"
        },
        "id": "mpeNgbisM5r8",
        "outputId": "0d0de821-47fe-4e04-e64f-8cea5447fe69"
      },
      "outputs": [
        {
          "name": "stdout",
          "output_type": "stream",
          "text": [
            "h\n",
            "l\n"
          ]
        }
      ],
      "source": [
        "for i, str in enumerate(\"hola\"):\n",
        "    if i % 2 == 0:\n",
        "        print(str)\n",
        "\n"
      ]
    },
    {
      "cell_type": "markdown",
      "metadata": {
        "id": "FJ7aY8r6OlRv"
      },
      "source": [
        "4.   Escriba una función que remueva los primeros n elementos de un string"
      ]
    },
    {
      "cell_type": "code",
      "execution_count": null,
      "metadata": {
        "colab": {
          "base_uri": "https://localhost:8080/"
        },
        "id": "zS0jvUX5N2D9",
        "outputId": "7e81b272-3871-437b-f7f7-709072584190"
      },
      "outputs": [
        {
          "name": "stdout",
          "output_type": "stream",
          "text": [
            "['undo']\n",
            "undo\n"
          ]
        }
      ],
      "source": [
        "def elimina_n_primeros_elementos_str_mutable(str,n): \n",
        "    str[0]=str[0][n:]\n",
        "\n",
        "def elimina_n_primeros_elementos_str_inmutable(str,n): \n",
        "    str=str[n:]\n",
        "    print(str)  \n",
        "    \n",
        "string_mutable=[\"hola, mundo\"] #en realidad es una lista o array que contiene un string, como es mutable, puede modificarse si se pasa como parámetro     \n",
        "string_inmutable=\"hola, mundo\" #el tipo string es inmutable, por lo que si lo paso como parámetro, se crea una copia que es la que va ser modificada\n",
        "\n",
        "elimina_n_primeros_elementos_str_mutable(string_mutable,7)\n",
        "print(string_mutable)\n",
        "\n",
        "elimina_n_primeros_elementos_str_inmutable(string_inmutable,7)"
      ]
    },
    {
      "cell_type": "markdown",
      "metadata": {
        "id": "CYK-q1NKPunW"
      },
      "source": [
        "5.   Escriba una función que devuelva True si el ultimo numero es igual al primero, y falso si son diferentes."
      ]
    },
    {
      "cell_type": "code",
      "execution_count": null,
      "metadata": {
        "colab": {
          "base_uri": "https://localhost:8080/"
        },
        "id": "h4wGWGu9PA0w",
        "outputId": "55bcdef8-381c-4395-c82d-5986815e39e0"
      },
      "outputs": [],
      "source": [
        "\n",
        "    "
      ]
    },
    {
      "cell_type": "markdown",
      "metadata": {
        "id": "XVQZwTDSRAJP"
      },
      "source": [
        "6. Dada una lista imprima los elementos que sean divisibles por 5"
      ]
    },
    {
      "cell_type": "code",
      "execution_count": 14,
      "metadata": {
        "colab": {
          "base_uri": "https://localhost:8080/"
        },
        "id": "scoEf97BQsR_",
        "outputId": "edad29f0-a7ec-4991-f544-3ad8d55fdf56"
      },
      "outputs": [
        {
          "name": "stdout",
          "output_type": "stream",
          "text": [
            "5\n",
            "10\n",
            "15\n"
          ]
        }
      ],
      "source": [
        "\n",
        "lista=[1,2,3,4,5,6,7,8,9,10,11,12,13,14,15]\n",
        "for i in lista:\n",
        "    if i%5==0:\n",
        "        print(i)\n",
        "        \n"
      ]
    },
    {
      "cell_type": "markdown",
      "metadata": {
        "id": "Sh-l7QCrRp_H"
      },
      "source": [
        "7. Escriba un programa que cuente cuantas substrings existen dentro de un string. Ingrese ambas string por consola."
      ]
    },
    {
      "cell_type": "code",
      "execution_count": 12,
      "metadata": {
        "colab": {
          "base_uri": "https://localhost:8080/"
        },
        "id": "Lg9KzsOsRbQZ",
        "outputId": "3e69951f-c691-4c47-e61e-4ea905513bc9"
      },
      "outputs": [
        {
          "name": "stdout",
          "output_type": "stream",
          "text": [
            "10\n"
          ]
        }
      ],
      "source": [
        "#para todo string la cantidad de subsrtings es igual a todas las combinaciones posibles de caracteres consecutivos que se pueden formar con esa cadena\n",
        "#ej \"abc\" ---> \"a\" \"b\" \"c\"  \"ab\" \"bc\" \"abc\" \n",
        "\n",
        "def cuenta_substring(str):\n",
        "    long=0\n",
        "    for i in range(len(str)):\n",
        "        for j in range(len(str)-i):\n",
        "            long=long+1\n",
        "    print(long)        \n",
        "\n",
        "\n",
        "string=\"abcd\"\n",
        "cuenta_substring(string)"
      ]
    },
    {
      "cell_type": "markdown",
      "metadata": {
        "id": "t-2k4ozfZLLU"
      },
      "source": [
        "8. Escriba un programa que determine si un numero es palimdromo/capicua. Ej: 12321 o 707."
      ]
    },
    {
      "cell_type": "code",
      "execution_count": 18,
      "metadata": {
        "colab": {
          "base_uri": "https://localhost:8080/"
        },
        "id": "PQdHk57RW-nm",
        "outputId": "eb2bfe0c-2ac2-4031-f493-397edd85b361"
      },
      "outputs": [
        {
          "name": "stdout",
          "output_type": "stream",
          "text": [
            "es palindromo\n"
          ]
        }
      ],
      "source": [
        "numero=12321\n",
        "palindromo=True\n",
        "tupla_digitos=tuple(int(digito) for digito in str(numero))  #la clave está e usar objetos inmutables y mutables \n",
        "lista_digitos=[int(digito) for digito in str(numero)]\n",
        "lista_digitos.reverse()\n",
        "for i in range(len(lista_digitos)):\n",
        "    if lista_digitos[i]!=tupla_digitos[i]:\n",
        "        palindromo=False\n",
        "        break\n",
        "if palindromo:\n",
        "    print(\"es palindromo\")\n",
        "else:\n",
        "    print(\"no es palindromo\")\n",
        "\n"
      ]
    },
    {
      "cell_type": "markdown",
      "metadata": {
        "id": "I_dstnDInMeX"
      },
      "source": [
        "9. dada dos listas de numeros, crear una tercera con los numeros pares de la primera y los impares de la tercera."
      ]
    },
    {
      "cell_type": "code",
      "execution_count": 6,
      "metadata": {
        "colab": {
          "base_uri": "https://localhost:8080/"
        },
        "id": "ESfneGlJYr6r",
        "outputId": "36c09f13-069f-475d-d2a3-68cc2e473321"
      },
      "outputs": [
        {
          "name": "stdout",
          "output_type": "stream",
          "text": [
            "[9, 2, 11, 4, 13, 6, 8]\n"
          ]
        }
      ],
      "source": [
        "from itertools import zip_longest\n",
        "\n",
        "\n",
        "lista1=[1,2,3,4,5,6,7,8] #surge un problema al iterar listas con diferente cantidad de elementos \n",
        "lista2=[9,10,11,12,13,14] #esto se debe a que el recorrido por zip recorre por parejas de elementos\n",
        "nueva_lista=[] #entonces cuando no hay mas nada para emparejar termina el recorrido\n",
        "i=0 #sin embargo existe un método para que se siga recorriendo hasta que termine la lista mas larga\n",
        "for a,b in zip_longest(lista1, lista2, fillvalue=0): #en lugar de zip() se importa la librería itertools con la función zip_longest() la cual rellena las parejas restantes con \"none\"\n",
        "    if a%2==0:#se utiliza un tercer parámetro llamado fillvalue para que no de errores al operar con none, en mi caso le puse 0 para mi conveniencia\n",
        "        nueva_lista.append(a)\n",
        "        i+=1\n",
        "    elif b%2!=0:\n",
        "        nueva_lista.append(b)\n",
        "        i+=1\n",
        "print(nueva_lista)       \n",
        "        \n"
      ]
    },
    {
      "cell_type": "markdown",
      "metadata": {
        "id": "FJq1yXP6uiI9"
      },
      "source": [
        "10. Utilice la funcion filter() y una funcion lambda para lograr el mismo programa que en 9."
      ]
    },
    {
      "cell_type": "code",
      "execution_count": 16,
      "metadata": {
        "colab": {
          "base_uri": "https://localhost:8080/"
        },
        "id": "6MHya_-Ku1MP",
        "outputId": "f5fbf0e0-dab7-4da5-82b9-aadaa5126e60"
      },
      "outputs": [
        {
          "name": "stdout",
          "output_type": "stream",
          "text": [
            "[2, 4, 6, 8, 9, 11, 13]\n"
          ]
        }
      ],
      "source": [
        "lista1=[1,2,3,4,5,6,7,8] \n",
        "lista2=[9,10,11,12,13,14] \n",
        "\n",
        "pares = lambda x: x%2==0\n",
        "impares = lambda x: x%2!=0\n",
        "\n",
        "filtrado_pares = filter(pares, lista1)  #esta variable es dde tipo filter(), pero puede castearse a lista\n",
        "filtrado_impares = filter(impares, lista2)\n",
        "\n",
        "nueva_lista_pares = list(filtrado_pares)\n",
        "nueva_lista_impares =list(filtrado_impares)\n",
        "\n",
        "nueva_lista_pares.extend(nueva_lista_impares)\n",
        "\n",
        "print(nueva_lista_pares)"
      ]
    },
    {
      "cell_type": "markdown",
      "metadata": {
        "id": "HLu3zVSHoEHS"
      },
      "source": [
        "11. a partir de los siguientes dict, concatene en uno solo.\n",
        "{1:10, 2:20}\n",
        "{3:30, 4:40}\n",
        "{5:50, 6:60}"
      ]
    },
    {
      "cell_type": "code",
      "execution_count": null,
      "metadata": {
        "colab": {
          "base_uri": "https://localhost:8080/"
        },
        "id": "8Ka7Ya-3nvIf",
        "outputId": "d2fd550e-b1de-486f-9ab0-ca75b8b8ab7a"
      },
      "outputs": [],
      "source": []
    },
    {
      "cell_type": "markdown",
      "metadata": {
        "id": "HOv8EtCytF7D"
      },
      "source": [
        "12. Elimine los elementos vacios de un diccionario, por ejemplo dado {'a':1,'b':2,'c':None} conseguir {'a':1,'b':2}"
      ]
    },
    {
      "cell_type": "code",
      "execution_count": 24,
      "metadata": {
        "colab": {
          "base_uri": "https://localhost:8080/"
        },
        "id": "lz9g0pmRsYWg",
        "outputId": "991f8539-0351-4f0f-bf41-2081b96afdeb"
      },
      "outputs": [
        {
          "name": "stdout",
          "output_type": "stream",
          "text": [
            "{'a': 1, 'b': 2}\n"
          ]
        }
      ],
      "source": [
        "dic=dict(a=1,b=2,c=None)\n",
        "\n",
        "\n",
        "\n",
        "dic.pop('c') #primera opcion\n",
        "dic.popitem() #segunda opcion\n",
        "\n",
        "print(dic)"
      ]
    }
  ],
  "metadata": {
    "colab": {
      "provenance": []
    },
    "kernelspec": {
      "display_name": "Python 3",
      "name": "python3"
    },
    "language_info": {
      "codemirror_mode": {
        "name": "ipython",
        "version": 3
      },
      "file_extension": ".py",
      "mimetype": "text/x-python",
      "name": "python",
      "nbconvert_exporter": "python",
      "pygments_lexer": "ipython3",
      "version": "3.12.4"
    }
  },
  "nbformat": 4,
  "nbformat_minor": 0
}
