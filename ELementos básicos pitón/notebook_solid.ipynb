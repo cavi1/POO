{
 "cells": [
  {
   "cell_type": "markdown",
   "metadata": {},
   "source": [
    " ## Single Responsabilty\n",
    " Una clase solo debe ser responsable por una cosa. Si una clase tiene más de una responsabilidad se acopla. Un cambio en una responsabilidad resulta en cambios para la otra responsabilidad. \n",
    " \n",
    "Aplica no solo a clases sino también a SW, componentes y servicios. \n",
    "La clase usuario maneja las propiedades y el almacenamiento en base de datos\n",
    "bien aplicado la aplicación se vuelve altamente cohesiva. \n",
    "\n"
   ]
  },
  {
   "cell_type": "code",
   "execution_count": null,
   "metadata": {},
   "outputs": [],
   "source": [
    "class Usuario:\n",
    "    def __init__(self, nombre, edad):\n",
    "      self.__nombre= nombre\n",
    "      self.__edad = edad\n",
    "    \n",
    "    def validarUsuario(self):\n",
    "       pass\n",
    "\n",
    "    @property\n",
    "    def nombre(self):\n",
    "       return self.__nombre\n",
    "    \n",
    "    @nombre.setter\n",
    "    def nombre(self,nombre):\n",
    "       self.__nombre = nombre"
   ]
  },
  {
   "cell_type": "markdown",
   "metadata": {},
   "source": [
    "## Open - Closed\n",
    "Las entidades de SW (Clases módulos funciones) deben ser abiertas para extensión y no para modificación. "
   ]
  },
  {
   "cell_type": "markdown",
   "metadata": {},
   "source": [
    "#### Problema"
   ]
  },
  {
   "cell_type": "code",
   "execution_count": 2,
   "metadata": {},
   "outputs": [
    {
     "name": "stdout",
     "output_type": "stream",
     "text": [
      "Guau!\n",
      "Miau!\n"
     ]
    }
   ],
   "source": [
    "class Animal:\n",
    "    def __init__(self, nombre):\n",
    "        self.__nombre = nombre\n",
    "    \n",
    "    def imprimirSonidos(self):\n",
    "        if self.__nombre == \"Perro\":\n",
    "            print(\"Guau!\")\n",
    "        elif self.__nombre == \"Gato\":\n",
    "            print(\"Miau!\")\n",
    "\n",
    "    @property\n",
    "    def nombre(self):\n",
    "        return self.__nombre\n",
    "    \n",
    "animales = [Animal(\"Perro\"), Animal(\"Gato\")]\n",
    "\n",
    "for animal in animales:\n",
    "    animal.imprimirSonidos()\n"
   ]
  },
  {
   "cell_type": "markdown",
   "metadata": {},
   "source": [
    " #### Solución\n"
   ]
  },
  {
   "cell_type": "code",
   "execution_count": 4,
   "metadata": {},
   "outputs": [
    {
     "name": "stdout",
     "output_type": "stream",
     "text": [
      "Guau!\n",
      "Miau!\n"
     ]
    }
   ],
   "source": [
    "from abc import ABC, abstractmethod\n",
    "\n",
    "class Animal(ABC):\n",
    "    def __init__(self, nombre):\n",
    "        self.__nombre = nombre\n",
    "\n",
    "    @abstractmethod\n",
    "    def imprimirSonidos(self):\n",
    "        pass\n",
    "\n",
    "    @property\n",
    "    def nombre(self):\n",
    "        return self.__nombre\n",
    "\n",
    "class Perro(Animal):\n",
    "    def imprimirSonidos(self):\n",
    "        print(\"Guau!\")\n",
    "\n",
    "class Gato(Animal):\n",
    "    def imprimirSonidos(self):\n",
    "        print(\"Miau!\")\n",
    "\n",
    "animales = [Perro(\"roberto\"), Gato(\"michifus\")]\n",
    "\n",
    "for animal in animales:\n",
    "    animal.imprimirSonidos()\n"
   ]
  },
  {
   "cell_type": "markdown",
   "metadata": {},
   "source": [
    "## Liskov Substitution\n",
    "Una subclase debe ser sustituible por su superclase.\n",
    "El objetivo es comprobar que una subclase puede asumir el lugar del padre sin errores, si es necesario tener que andar haciendo comprobación de tipos, no se cumple el principio de Liskov Substitution. \n"
   ]
  },
  {
   "cell_type": "code",
   "execution_count": 13,
   "metadata": {},
   "outputs": [
    {
     "name": "stdout",
     "output_type": "stream",
     "text": [
      "cantidad de patas de perro: 4\n",
      "cantidad de patas de gato: 4\n",
      "cantidad de patas de anaconda: None\n"
     ]
    }
   ],
   "source": [
    "#from abc import ABC, abstractmethod\n",
    "\n",
    "#class Animal(ABC):\n",
    "class Animal():\n",
    "    def __init__(self, nombre):\n",
    "        self.__nombre = nombre\n",
    "\n",
    "#    @abstractmethod\n",
    "    def imprimirSonidos(self):\n",
    "        pass\n",
    "#    @abstractmethod\n",
    "    def cantidadPatas(self):\n",
    "        pass\n",
    "\n",
    "    @property\n",
    "    def nombre(self):\n",
    "        return self.__nombre\n",
    "\n",
    "class Perro(Animal):\n",
    "    def imprimirSonidos(self):\n",
    "        print(\"Guau!\")\n",
    "    \n",
    "    def cantidadPatas(self):\n",
    "        return 4\n",
    "\n",
    "class Gato(Animal):\n",
    "    def imprimirSonidos(self):\n",
    "        print(\"Miau!\")\n",
    "    \n",
    "    def cantidadPatas(self):\n",
    "        return 4\n",
    "\n",
    "class Anaconda(Animal):\n",
    "    \n",
    "    def imprimirSonidos(self):\n",
    "        print(\"?\")\n",
    "\n",
    "\n",
    "animales = [Perro(\"roberto\"), Gato(\"michifus\"), Anaconda(\"juana\")]\n",
    "\n",
    "for animal in animales:\n",
    "    if type(animal) == Perro:\n",
    "        print(\"cantidad de patas de perro: \"+ str(animal.cantidadPatas()))\n",
    "    elif type(animal) == Gato:\n",
    "        print(\"cantidad de patas de gato: \"+ str(animal.cantidadPatas()))\n",
    "    elif type(animal) == Anaconda:\n",
    "        print(\"cantidad de patas de anaconda: \"+ str(animal.cantidadPatas()))  "
   ]
  },
  {
   "cell_type": "markdown",
   "metadata": {},
   "source": [
    "Las interfaces informales de Python nos permiten demostrar una violación al principio de Liskov Substitution. Las interfaces formales nos aseguran que no suceda. "
   ]
  },
  {
   "cell_type": "markdown",
   "metadata": {},
   "source": [
    "### Interface Segregation\n",
    "Las interfaces tienen que ser específicas. Las clases que implementan interfaces no deben verse obligadas a implementar métodos que no necesitan. "
   ]
  },
  {
   "cell_type": "code",
   "execution_count": 17,
   "metadata": {},
   "outputs": [
    {
     "ename": "TypeError",
     "evalue": "Can't instantiate abstract class Gato with abstract methods comer_insectos, comer_plantas, emitir_sonido",
     "output_type": "error",
     "traceback": [
      "\u001b[0;31m---------------------------------------------------------------------------\u001b[0m",
      "\u001b[0;31mTypeError\u001b[0m                                 Traceback (most recent call last)",
      "\u001b[1;32m/home/pablo/Desktop/notebooks/notebook_solid.ipynb Cell 12\u001b[0m in \u001b[0;36m2\n\u001b[1;32m     <a href='vscode-notebook-cell:/home/pablo/Desktop/notebooks/notebook_solid.ipynb#X10sZmlsZQ%3D%3D?line=18'>19</a>\u001b[0m     \u001b[39mdef\u001b[39;00m \u001b[39mcomer_carne\u001b[39m(\u001b[39mself\u001b[39m):\n\u001b[1;32m     <a href='vscode-notebook-cell:/home/pablo/Desktop/notebooks/notebook_solid.ipynb#X10sZmlsZQ%3D%3D?line=19'>20</a>\u001b[0m         \u001b[39mprint\u001b[39m(\u001b[39m\"\u001b[39m\u001b[39msi come carne..\u001b[39m\u001b[39m\"\u001b[39m)\n\u001b[0;32m---> <a href='vscode-notebook-cell:/home/pablo/Desktop/notebooks/notebook_solid.ipynb#X10sZmlsZQ%3D%3D?line=21'>22</a>\u001b[0m un_gato \u001b[39m=\u001b[39m Gato()\n\u001b[1;32m     <a href='vscode-notebook-cell:/home/pablo/Desktop/notebooks/notebook_solid.ipynb#X10sZmlsZQ%3D%3D?line=22'>23</a>\u001b[0m un_gato\u001b[39m.\u001b[39mcomer_carne()\n",
      "\u001b[0;31mTypeError\u001b[0m: Can't instantiate abstract class Gato with abstract methods comer_insectos, comer_plantas, emitir_sonido"
     ]
    }
   ],
   "source": [
    "from abc import ABC, abstractmethod\n",
    "\n",
    "class Animal(ABC):\n",
    "\n",
    "    @abstractmethod\n",
    "    def emitirSonido(self):\n",
    "        pass\n",
    "    @abstractmethod\n",
    "    def comerPlantas(self):\n",
    "        pass\n",
    "    @abstractmethod\n",
    "    def comerCarne(self):\n",
    "        pass\n",
    "    @abstractmethod\n",
    "    def comerInsectos(self):\n",
    "        pass\n",
    "\n",
    "class Gato (Animal):\n",
    "    def comerCarne(self):\n",
    "        print(\"si come carne..\")\n",
    "\n",
    "un_gato = Gato()\n",
    "un_gato.comerCarne()\n"
   ]
  },
  {
   "cell_type": "markdown",
   "metadata": {},
   "source": [
    "para arreglar el codigo tendria que darle un cuerpo a los metodos abstractos y eso no esta bien. Tendria que definirse una interfaz para hervivoros, carnivoros, etc."
   ]
  },
  {
   "cell_type": "markdown",
   "metadata": {},
   "source": [
    "### Dependency Inversion\n",
    "Las dependencias deben ser sobre abstracciones no sobre concreciones. \n",
    " - Módulos de alto nivel no deben de depender de los de bajo nivel. Ambas deben de depender de abstracciones \n",
    " - Abstracciones no deben de depender de los detalles, los detalles deben depender de las abstracciones. \n"
   ]
  },
  {
   "cell_type": "code",
   "execution_count": null,
   "metadata": {},
   "outputs": [],
   "source": [
    "class BaseDeDatos(Postgresql, Mysql, Oracle):\n",
    "    pass\n",
    "class ConexionPostgres (Conexion):\n",
    "    pass"
   ]
  },
  {
   "cell_type": "markdown",
   "metadata": {},
   "source": [
    "## Ejercicio\n",
    "\n",
    "Identifique que principio no se cumple en el siguiente codigo ¿como deberia ser uno que si lo cumpla?"
   ]
  },
  {
   "cell_type": "code",
   "execution_count": 18,
   "metadata": {},
   "outputs": [],
   "source": [
    "import requests\n",
    "from zipfile import ZipFile\n",
    "\n",
    "class ConexionHTTP:\n",
    "    def __init__(self, url):\n",
    "        self.url =url\n",
    "\n",
    "    def peticionTCP(self):\n",
    "        res = requests.get(self.url)\n",
    "        print(res)\n",
    "\n",
    "    def imprimir_encabezados(self):\n",
    "        res = requests.get(self.url)\n",
    "        print(res.headers)\n",
    "\n",
    "    def respuesta(self, url):\n",
    "        return requests.get(self.url)\n",
    "    \n",
    "    def peticion_con_parametros(self):\n",
    "        '''param es un dict con los paramtros a enviar en la peticion'''\n",
    "        param = input(\"ingrese parametro: \")\n",
    "        res = requests.get(self.url, params=param)\n",
    "    def parsear_json(self):\n",
    "        '''transforma la respuesta a un json '''\n",
    "        pass\n"
   ]
  }
 ],
 "metadata": {
  "kernelspec": {
   "display_name": "Python 3",
   "language": "python",
   "name": "python3"
  },
  "language_info": {
   "codemirror_mode": {
    "name": "ipython",
    "version": 3
   },
   "file_extension": ".py",
   "mimetype": "text/x-python",
   "name": "python",
   "nbconvert_exporter": "python",
   "pygments_lexer": "ipython3",
   "version": "3.11.4"
  },
  "orig_nbformat": 4
 },
 "nbformat": 4,
 "nbformat_minor": 2
}
