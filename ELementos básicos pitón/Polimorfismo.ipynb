{
  "cells": [
    {
      "cell_type": "markdown",
      "metadata": {
        "id": "f8QFBOhGHnje"
      },
      "source": [
        "## Polimorfismo"
      ]
    },
    {
      "cell_type": "markdown",
      "metadata": {
        "id": "LrrBY6QisKzp"
      },
      "source": []
    },
    {
      "cell_type": "code",
      "execution_count": 4,
      "metadata": {
        "colab": {
          "base_uri": "https://localhost:8080/"
        },
        "id": "8pqJEceLHidb",
        "outputId": "02e16bac-b0bb-4294-fd75-2e9e5e3f9fdc"
      },
      "outputs": [
        {
          "name": "stdout",
          "output_type": "stream",
          "text": [
            "reproduciendo mi_archivo.ogg como ogg\n",
            "reproduciendo mi_archivo.mp3 como mp3\n"
          ]
        }
      ],
      "source": [
        "class ArchivoDeAudio:\n",
        "  def __init__(self, archivo):\n",
        "    if not archivo.endswith(self.ext):\n",
        "      raise Exception(\"Formato de archivo invalido\")\n",
        "    self.archivo = archivo\n",
        "\n",
        "class MP3(ArchivoDeAudio):\n",
        "  ext = \"mp3\"\n",
        "  def reproducir(self):\n",
        "    print(\"reproduciendo {} como mp3\".format(self.archivo))\n",
        "class Wav(ArchivoDeAudio):\n",
        "  ext = \"wav\"\n",
        "  def reproducir(self):\n",
        "    print(\"reproduciendo {} como wav\".format(self.archivo))\n",
        "class Ogg(ArchivoDeAudio):\n",
        "  ext = \"ogg\"\n",
        "  def reproducir(self):\n",
        "    print(\"reproduciendo {} como ogg\".format(self.archivo))\n",
        "\n",
        "\n",
        "ogg = Ogg(\"mi_archivo.ogg\")\n",
        "ogg.reproducir()\n",
        "mp3 = MP3(\"mi_archivo.mp3\")\n",
        "mp3.reproducir()"
      ]
    },
    {
      "cell_type": "markdown",
      "metadata": {
        "id": "ZlweHC7Ox92R"
      },
      "source": [
        "Ejemplo extraido del libro Python 3 Object-oriented Programming de Dusty Phillips pág.75\n",
        "En este caso, diferentes comportamientos pueden suceder dependendiendo de la subclase.\n",
        "Todos los archivos de audio aseguran que la extensión del archivo sea valida.\n",
        "El que ArchivoDeAudio pueda acceder a la variable ext es polimorfismo.\n",
        "El que cada subclase pueda reproducir es polimorfismo."
      ]
    },
    {
      "cell_type": "markdown",
      "metadata": {
        "id": "mYRmmOR704Eh"
      },
      "source": [
        "## Duck Typing"
      ]
    },
    {
      "cell_type": "code",
      "execution_count": 7,
      "metadata": {
        "colab": {
          "base_uri": "https://localhost:8080/"
        },
        "id": "E1ZvZpE0xXHs",
        "outputId": "d9754dbb-5bca-47a3-f010-7a84f877d7ae"
      },
      "outputs": [
        {
          "name": "stdout",
          "output_type": "stream",
          "text": [
            "Cuack Cuack\n",
            "Guau\n",
            "Miau\n",
            "¡Cocorocooo!\n"
          ]
        }
      ],
      "source": [
        "class Pato:\n",
        "    def hablar(self):\n",
        "        print(\"Cuack Cuack\")\n",
        "class Perro:\n",
        "    def hablar(self):\n",
        "        print(\"Guau\")\n",
        "\n",
        "class Gato:\n",
        "    def hablar(self):\n",
        "        print(\"Miau\")\n",
        "\n",
        "class Gallo:\n",
        "    def hablar(self):\n",
        "        print(\"¡Cocorocooo!\")\n",
        "\n",
        "lista = [Pato(), Perro(), Gato(), Gallo()]\n",
        "for animal in lista:\n",
        "    animal.hablar()"
      ]
    },
    {
      "cell_type": "markdown",
      "metadata": {
        "id": "02U-p9SP7YUj"
      },
      "source": [
        "## Sobreescritura de metodos"
      ]
    },
    {
      "cell_type": "code",
      "execution_count": 13,
      "metadata": {
        "colab": {
          "base_uri": "https://localhost:8080/"
        },
        "id": "jZaBe1x54MsL",
        "outputId": "eb14cf53-db5b-45c6-a70f-5034203dceb4"
      },
      "outputs": [
        {
          "name": "stdout",
          "output_type": "stream",
          "text": [
            "nombre: juan apellido: pérez DNI: 12312343\n"
          ]
        }
      ],
      "source": [
        "class Persona():\n",
        "  def __init__(self, nombre, apellido, dni):\n",
        "    self.nombre = nombre\n",
        "    self.apellido = apellido\n",
        "    self.dni = dni\n",
        "\n",
        "  def __str__(self):\n",
        "    return \"nombre: \"+ self.nombre +  \" apellido: \"+self.apellido + \" DNI: \"+ str(self.dni)\n",
        "\n",
        "p = Persona(\"juan\", \"pérez\", 12312343)\n",
        "\n",
        "print(p)\n"
      ]
    },
    {
      "cell_type": "markdown",
      "metadata": {
        "id": "OTokl7_F-QYj"
      },
      "source": [
        "## Interfaz informal"
      ]
    },
    {
      "cell_type": "code",
      "execution_count": 20,
      "metadata": {
        "colab": {
          "base_uri": "https://localhost:8080/"
        },
        "id": "3m-kVlxr2aMJ",
        "outputId": "976b5270-dd16-4e03-99a3-a954ed22fc44"
      },
      "outputs": [
        {
          "name": "stdout",
          "output_type": "stream",
          "text": [
            "El auto arranca.\n",
            "El auto acelera a 60 km/h.\n",
            "El auto frena.\n",
            "El auto se apaga.\n",
            "\n",
            "La moto arranca.\n",
            "La moto acelera a 60 km/h.\n",
            "La moto se apaga.\n",
            "\n"
          ]
        }
      ],
      "source": [
        "\n",
        "class Vehiculo():\n",
        "    def arrancar(self):\n",
        "        pass\n",
        "    def acelerar(self, velocidad):\n",
        "        pass\n",
        "    def frenar(self):\n",
        "        pass\n",
        "    def apagar(self):\n",
        "        pass\n",
        "\n",
        "class Auto(Vehiculo):\n",
        "    def arrancar(self):\n",
        "        print(\"El auto arranca.\")\n",
        "\n",
        "    def acelerar(self, velocidad):\n",
        "        print(f\"El auto acelera a {velocidad} km/h.\")\n",
        "\n",
        "    def frenar(self):\n",
        "        print(\"El auto frena.\")\n",
        "\n",
        "    def apagar(self):\n",
        "        print(\"El auto se apaga.\")\n",
        "\n",
        "\n",
        "class Moto(Vehiculo):\n",
        "    def arrancar(self):\n",
        "        print(\"La moto arranca.\")\n",
        "\n",
        "    def acelerar(self, velocidad):\n",
        "        print(f\"La moto acelera a {velocidad} km/h.\")\n",
        "\n",
        "    def frenar(self):\n",
        "        print(\"La moto frena.\")\n",
        "\n",
        "    def apagar(self):\n",
        "        print(\"La moto se apaga.\")\n",
        "\n",
        "vehiculos = [Auto(),Moto()]\n",
        "\n",
        "for vehiculo in vehiculos:\n",
        "  vehiculo.arrancar()\n",
        "  vehiculo.acelerar(60)\n",
        "  vehiculo.frenar()\n",
        "  vehiculo.apagar()\n",
        "  print()\n"
      ]
    },
    {
      "cell_type": "markdown",
      "metadata": {
        "id": "49ITfiV1_2ES"
      },
      "source": [
        "## Interfaz formal"
      ]
    },
    {
      "cell_type": "code",
      "execution_count": 22,
      "metadata": {
        "colab": {
          "base_uri": "https://localhost:8080/"
        },
        "id": "9EkJav7x-0ea",
        "outputId": "0889374b-55b5-4176-fbcd-9fc0e3c79f2d"
      },
      "outputs": [
        {
          "name": "stdout",
          "output_type": "stream",
          "text": [
            "El auto arranca.\n",
            "El auto acelera a 60 km/h.\n",
            "El auto frena.\n",
            "El auto se apaga.\n",
            "\n",
            "La moto arranca.\n",
            "La moto acelera a 60 km/h.\n",
            "La moto frena.\n",
            "La moto se apaga.\n",
            "\n"
          ]
        }
      ],
      "source": [
        "from abc import ABC, abstractmethod\n",
        "\n",
        "class Vehiculo(ABC):\n",
        "    @abstractmethod\n",
        "    def arrancar(self):\n",
        "        pass\n",
        "\n",
        "    @abstractmethod\n",
        "    def acelerar(self, velocidad):\n",
        "        pass\n",
        "\n",
        "    @abstractmethod\n",
        "    def frenar(self):\n",
        "        pass\n",
        "\n",
        "    @abstractmethod\n",
        "    def apagar(self):\n",
        "        pass\n",
        "\n",
        "class Auto(Vehiculo):\n",
        "    def arrancar(self):\n",
        "        print(\"El auto arranca.\")\n",
        "\n",
        "    def acelerar(self, velocidad):\n",
        "        print(f\"El auto acelera a {velocidad} km/h.\")\n",
        "\n",
        "    def frenar(self):\n",
        "        print(\"El auto frena.\")\n",
        "\n",
        "    def apagar(self):\n",
        "        print(\"El auto se apaga.\")\n",
        "\n",
        "\n",
        "class Moto(Vehiculo):\n",
        "    def arrancar(self):\n",
        "        print(\"La moto arranca.\")\n",
        "\n",
        "    def acelerar(self, velocidad):\n",
        "        print(f\"La moto acelera a {velocidad} km/h.\")\n",
        "\n",
        "    def frenar(self):\n",
        "        print(\"La moto frena.\")\n",
        "\n",
        "    def apagar(self):\n",
        "        print(\"La moto se apaga.\")\n",
        "\n",
        "vehiculos = [Auto(),Moto()]\n",
        "\n",
        "for vehiculo in vehiculos:\n",
        "  vehiculo.arrancar()\n",
        "  vehiculo.acelerar(60)\n",
        "  vehiculo.frenar()\n",
        "  vehiculo.apagar()\n",
        "  print()"
      ]
    },
    {
      "cell_type": "markdown",
      "metadata": {
        "id": "0zhZwatpFCPb"
      },
      "source": [
        "## Ejercicio\n",
        "Defina una interfaz Empleado que tenga los métodos calcular_salario()  y mostrar_informacion()\n",
        "\n",
        "Desarrolle la clase EmpleadoTiempoCompleto que tiene como atributos su nombre y su sueldo anual y la clase EmpledoTemporal que tiene nombre, sueldo_por_hora y horas_trabajadas. Ambas deben implementar la interfaz.\n",
        "\n",
        "Para probar, cree una lista de 3 empleados random e imprima su información.\n",
        "\n",
        "¿Qué tipo de polimorfismo sucede? ¿estático o dinámico? ¿como se podría implementar el otro tipo?\n"
      ]
    }
  ],
  "metadata": {
    "colab": {
      "provenance": []
    },
    "kernelspec": {
      "display_name": "Python 3",
      "name": "python3"
    },
    "language_info": {
      "name": "python"
    }
  },
  "nbformat": 4,
  "nbformat_minor": 0
}
